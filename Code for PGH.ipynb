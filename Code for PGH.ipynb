{
 "cells": [
  {
   "cell_type": "markdown",
   "metadata": {},
   "source": [
    "# Digital Equity Data & Jupyter Notebooks\n",
    "Eleanor Tutt | tutte@carnegielibrary.org | Code for PGH Work Night | June 13, 2018"
   ]
  },
  {
   "cell_type": "markdown",
   "metadata": {},
   "source": [
    "## Welcome!\n",
    "\n",
    "This is the same Jupyter notebook I will talk through. You can also use it as a starting point to explore digital equity data during the second half of the work night.\n",
    "\n",
    "I have been working with Jupyter notebooks on and off for several years, but I still consider myself a beginner and this talk is designed for beginners!\n",
    "\n",
    "I'll leave lots of time for you to explore Jupyter notebooks, python, and digital equity data using this notebook as a starting point - you can slow down or speed up then, preferably in small groups with new friends. :)"
   ]
  },
  {
   "cell_type": "markdown",
   "metadata": {},
   "source": [
    "## Some helpful resources\n",
    "\n",
    "#### Jupyter Notebooks\n",
    "\n",
    "* https://mybinder.org/\n",
    "\n",
    "#### Python / Pandas\n",
    "\n",
    "* http://pandas.pydata.org/pandas-docs/stable/10min.html\n",
    "* https://pandas.pydata.org/pandas-docs/stable/dsintro.html#dataframe\n",
    "* https://chrisalbon.com/#python\n",
    "\n",
    "#### Charting\n",
    "\n",
    "\n",
    "\n",
    "#### Folium\n",
    "\n",
    "* https://python-visualization.github.io/folium/quickstart.html\n",
    "* http://mattgoldwasser.com/posts/choroplot/\n",
    "* http://nbviewer.jupyter.org/github/python-visualization/folium/blob/master/examples/GeoJSON_and_choropleth.ipynb?flush_cache=true\n",
    "\n",
    "\n",
    "#### Digital Equity Data\n",
    "\n",
    "* https://data.wprdc.org/dataset/libraries\n",
    "* https://data.wprdc.org/dataset/clp-public-wifi\n",
    "* https://www.fcc.gov/reports-research/maps/\n",
    "* https://data.wprdc.org/dataset/pittsburgh-internet-service-providers-by-block-june-2016"
   ]
  },
  {
   "cell_type": "markdown",
   "metadata": {},
   "source": [
    "## The Jupyter toolbar"
   ]
  },
  {
   "cell_type": "code",
   "execution_count": null,
   "metadata": {
    "collapsed": true
   },
   "outputs": [],
   "source": [
    "# No code for this part - just talk!"
   ]
  },
  {
   "cell_type": "markdown",
   "metadata": {},
   "source": [
    "## Setting up your notebook"
   ]
  },
  {
   "cell_type": "code",
   "execution_count": null,
   "metadata": {
    "collapsed": false
   },
   "outputs": [],
   "source": [
    "# if you want to use any python packages, add them at the beginning of your notebook\n",
    "# packages allow you to take \"shortcuts\" instead of coding everything yourself\n",
    "# like if you are making a pizza and you buy dough instead of making it totally from scratch\n",
    "\n",
    "# pandas is a python package popular with data scientists\n",
    "# is common to shorten pandas to pd when you import it\n",
    "import pandas as pd\n",
    "\n",
    "# folium is a python package that helps create interactive maps using leaflet\n",
    "import folium\n",
    "\n",
    "# later we are going to read in some geojson\n",
    "import json\n",
    "\n",
    "# and this will help us with some colors for a choropleth map\n",
    "from branca.colormap import linear"
   ]
  },
  {
   "cell_type": "markdown",
   "metadata": {},
   "source": [
    "## Importing data"
   ]
  },
  {
   "cell_type": "code",
   "execution_count": null,
   "metadata": {
    "collapsed": true
   },
   "outputs": [],
   "source": [
    "# pandas has a function called read_csv that can import csv data and store it as a dataframe\n",
    "# a dataframe is a common pandas object that stores information in rows and columns\n",
    "# you can think of it a like a spreadsheet, especially if you are using .csv data\n",
    "\n",
    "# here we are creating a dataframe named libraries from a previously downloaded csv file\n",
    "# original data from https://data.wprdc.org/dataset/libraries\n",
    "# you could also link directly to the wprdc download url in your code:\n",
    "# https://data.wprdc.org/datastore/dump/14babf3f-4932-4828-8b49-3c9a03bae6d0\n",
    "\n",
    "libraries = pd.read_csv(\"librarylocations.csv\")\n",
    "\n",
    "# here is library wifi use data - brand new on the WPRDC!\n",
    "# original data from https://data.wprdc.org/dataset/clp-public-wifi\n",
    "\n",
    "wifi = pd.read_csv(\"clp-public-wifi.csv\") \n",
    "\n",
    "# here we are creating a dataframe named fcc from previously downloaded data\n",
    "# original data from \n",
    "# we added the dype parameter to make sure tract numbers are imported as text and not numbers\n",
    "\n",
    "fcc = pd.read_csv(\"tract_map_dec_2016.csv\", dtype={'tractcode': str})\n"
   ]
  },
  {
   "cell_type": "markdown",
   "metadata": {},
   "source": [
    "## Looking at your data"
   ]
  },
  {
   "cell_type": "code",
   "execution_count": null,
   "metadata": {
    "collapsed": false
   },
   "outputs": [],
   "source": [
    "# adding .info() to the name of a dataframe gives us some information about the dataframe -\n",
    "# how many rows of data we have, what the columns are named, and what the data types are\n",
    "\n",
    "fcc.info()"
   ]
  },
  {
   "cell_type": "code",
   "execution_count": null,
   "metadata": {
    "collapsed": false
   },
   "outputs": [],
   "source": [
    "fcc.info()"
   ]
  },
  {
   "cell_type": "code",
   "execution_count": null,
   "metadata": {
    "collapsed": false
   },
   "outputs": [],
   "source": [
    "# you also might want to look at the first few rows of your dataframe\n",
    "\n",
    "libraries.head(5)"
   ]
  },
  {
   "cell_type": "code",
   "execution_count": null,
   "metadata": {
    "collapsed": false
   },
   "outputs": [],
   "source": [
    "# or the last few rows\n",
    "\n",
    "fcc.tail(3)"
   ]
  },
  {
   "cell_type": "code",
   "execution_count": null,
   "metadata": {
    "collapsed": false
   },
   "outputs": [],
   "source": [
    "fcc.describe()"
   ]
  },
  {
   "cell_type": "markdown",
   "metadata": {},
   "source": [
    "## Summarizing your data"
   ]
  },
  {
   "cell_type": "code",
   "execution_count": null,
   "metadata": {
    "collapsed": true
   },
   "outputs": [],
   "source": []
  },
  {
   "cell_type": "markdown",
   "metadata": {},
   "source": [
    "## Making a chart"
   ]
  },
  {
   "cell_type": "code",
   "execution_count": null,
   "metadata": {
    "collapsed": true
   },
   "outputs": [],
   "source": [
    "# there are many, many options for making charts!"
   ]
  },
  {
   "cell_type": "markdown",
   "metadata": {},
   "source": [
    "## Making a map"
   ]
  },
  {
   "cell_type": "code",
   "execution_count": null,
   "metadata": {
    "collapsed": false
   },
   "outputs": [],
   "source": [
    "m = folium.Map(location=[40.442, -79.997],\n",
    "                        zoom_start=13,\n",
    "                        tiles=\"Stamen Toner\")\n",
    "\n",
    "library_layer = folium.FeatureGroup(name='CLP Libraries')\n",
    "\n",
    "for index, row in libraries.iterrows():\n",
    "    library_layer.add_child(folium.CircleMarker(location=(row[\"Lat\"],\n",
    "                                                    row[\"Lon\"]),\n",
    "                            radius=150,\n",
    "                            popup=row[\"Name\"],\n",
    "                            color=False,\n",
    "                            fill_opacity=1,\n",
    "                            fill_color=\"#d4237d\"))\n",
    "\n",
    "m.add_child(library_layer)\n",
    "\n",
    "folium.LayerControl().add_to(m)\n",
    "\n",
    "m"
   ]
  },
  {
   "cell_type": "markdown",
   "metadata": {
    "collapsed": true
   },
   "source": [
    "## Making a more complicated map!"
   ]
  },
  {
   "cell_type": "code",
   "execution_count": null,
   "metadata": {
    "collapsed": false
   },
   "outputs": [],
   "source": [
    "# side note: folium has a \"choropleth\" shortcut I generally use\n",
    "# but I just learned today they are thinking of depreciating it\n",
    "# so I made this map in a slightly more complicated way"
   ]
  },
  {
   "cell_type": "code",
   "execution_count": null,
   "metadata": {
    "collapsed": false
   },
   "outputs": [],
   "source": [
    "# our fcc dataframe has data for the entire US\n",
    "# but all those census tracts would make for a large file\n",
    "# we will load a previously downloaded geojson file\n",
    "# original data from https://data.wprdc.org/dataset/allegheny-county-census-tracts-2016\n",
    "# a good place to explore geojson as a data structure is http://geojson.io/\n",
    "\n",
    "allegheny_tracts = json.load(open(\"Allegheny_County_Census_Tracts_2016.geojson\"))"
   ]
  },
  {
   "cell_type": "code",
   "execution_count": null,
   "metadata": {
    "collapsed": false
   },
   "outputs": [],
   "source": [
    "# create a colormap\n",
    "\n",
    "colormap = linear.YlGn_09.scale(\n",
    "    fcc.pcat_all.min(),\n",
    "    fcc.pcat_all.max())\n",
    "\n",
    "print(colormap(5.0))\n",
    "\n",
    "colormap"
   ]
  },
  {
   "cell_type": "code",
   "execution_count": null,
   "metadata": {
    "collapsed": false
   },
   "outputs": [],
   "source": [
    "# and a way to connect tractcode/geoids to the relevant data\n",
    "\n",
    "fcc_dict = fcc.set_index('tractcode')['pcat_all']\n",
    "fcc_dict['42003468900']"
   ]
  },
  {
   "cell_type": "code",
   "execution_count": null,
   "metadata": {
    "collapsed": false,
    "scrolled": true
   },
   "outputs": [],
   "source": [
    "m2 = folium.Map(location=[40.442, -79.997],\n",
    "                        zoom_start=13,\n",
    "                        tiles=\"Stamen Toner\")\n",
    "\n",
    "fcc_layer = folium.GeoJson(\n",
    "    allegheny_tracts,\n",
    "    name='Residential Internet',\n",
    "    style_function=lambda feature: {\n",
    "        'fillColor': colormap(fcc_dict[feature['properties']['GEOID']]),\n",
    "        'color': 'black',\n",
    "        'weight': 1,\n",
    "        'fillOpacity': 0.8,\n",
    "    }\n",
    ")\n",
    "\n",
    "m2.add_child(fcc_layer)\n",
    "m2.add_child(library_layer)\n",
    "\n",
    "\n",
    "folium.LayerControl().add_to(m2)\n",
    "\n",
    "\n",
    "m2"
   ]
  },
  {
   "cell_type": "code",
   "execution_count": null,
   "metadata": {
    "collapsed": true
   },
   "outputs": [],
   "source": []
  },
  {
   "cell_type": "code",
   "execution_count": null,
   "metadata": {
    "collapsed": true
   },
   "outputs": [],
   "source": []
  }
 ],
 "metadata": {
  "anaconda-cloud": {},
  "kernelspec": {
   "display_name": "Python [Root]",
   "language": "python",
   "name": "Python [Root]"
  },
  "language_info": {
   "codemirror_mode": {
    "name": "ipython",
    "version": 3
   },
   "file_extension": ".py",
   "mimetype": "text/x-python",
   "name": "python",
   "nbconvert_exporter": "python",
   "pygments_lexer": "ipython3",
   "version": "3.5.2"
  }
 },
 "nbformat": 4,
 "nbformat_minor": 0
}
